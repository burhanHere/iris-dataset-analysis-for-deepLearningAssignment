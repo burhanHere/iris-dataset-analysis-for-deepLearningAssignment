{
 "cells": [
  {
   "cell_type": "code",
   "execution_count": 5,
   "id": "475ad25d",
   "metadata": {},
   "outputs": [],
   "source": [
    "import pandas as pd"
   ]
  },
  {
   "cell_type": "code",
   "execution_count": 6,
   "id": "3875ab13",
   "metadata": {},
   "outputs": [],
   "source": [
    "data = pd.read_csv('Iris.csv')"
   ]
  },
  {
   "cell_type": "code",
   "execution_count": 7,
   "id": "d0841792",
   "metadata": {},
   "outputs": [
    {
     "name": "stdout",
     "output_type": "stream",
     "text": [
      "      Id  SepalLengthCm  SepalWidthCm  PetalLengthCm  PetalWidthCm  \\\n",
      "0      1            5.1           3.5            1.4           0.2   \n",
      "1      2            4.9           3.0            1.4           0.2   \n",
      "2      3            4.7           3.2            1.3           0.2   \n",
      "3      4            4.6           3.1            1.5           0.2   \n",
      "4      5            5.0           3.6            1.4           0.2   \n",
      "..   ...            ...           ...            ...           ...   \n",
      "145  146            6.7           3.0            5.2           2.3   \n",
      "146  147            6.3           2.5            5.0           1.9   \n",
      "147  148            6.5           3.0            5.2           2.0   \n",
      "148  149            6.2           3.4            5.4           2.3   \n",
      "149  150            5.9           3.0            5.1           1.8   \n",
      "\n",
      "            Species  \n",
      "0       Iris-setosa  \n",
      "1       Iris-setosa  \n",
      "2       Iris-setosa  \n",
      "3       Iris-setosa  \n",
      "4       Iris-setosa  \n",
      "..              ...  \n",
      "145  Iris-virginica  \n",
      "146  Iris-virginica  \n",
      "147  Iris-virginica  \n",
      "148  Iris-virginica  \n",
      "149  Iris-virginica  \n",
      "\n",
      "[150 rows x 6 columns]\n"
     ]
    }
   ],
   "source": [
    "print(data)"
   ]
  },
  {
   "cell_type": "code",
   "execution_count": 8,
   "id": "68adbd71",
   "metadata": {},
   "outputs": [
    {
     "name": "stdout",
     "output_type": "stream",
     "text": [
      "   Id  SepalLengthCm  SepalWidthCm  PetalLengthCm  PetalWidthCm      Species\n",
      "0   1            5.1           3.5            1.4           0.2  Iris-setosa\n",
      "1   2            4.9           3.0            1.4           0.2  Iris-setosa\n",
      "2   3            4.7           3.2            1.3           0.2  Iris-setosa\n",
      "3   4            4.6           3.1            1.5           0.2  Iris-setosa\n",
      "4   5            5.0           3.6            1.4           0.2  Iris-setosa\n"
     ]
    }
   ],
   "source": [
    "print(data.head())"
   ]
  },
  {
   "cell_type": "markdown",
   "id": "9c59b075",
   "metadata": {},
   "source": [
    "Question 1\n"
   ]
  },
  {
   "cell_type": "code",
   "execution_count": 17,
   "id": "e2cce99f",
   "metadata": {},
   "outputs": [
    {
     "name": "stdout",
     "output_type": "stream",
     "text": [
      "(150, 6)\n"
     ]
    },
    {
     "data": {
      "text/plain": [
       "Species\n",
       "Iris-setosa        50\n",
       "Iris-versicolor    50\n",
       "Iris-virginica     50\n",
       "Name: count, dtype: int64"
      ]
     },
     "execution_count": 17,
     "metadata": {},
     "output_type": "execute_result"
    }
   ],
   "source": [
    "# total number of rows and columns\n",
    "print(data.shape)\n",
    "# Grouping the data by 'Species' and calculating the count for each species\n",
    "data['Species'].value_counts()"
   ]
  },
  {
   "cell_type": "markdown",
   "id": "ee5bb4f3",
   "metadata": {},
   "source": [
    "Question 2\n"
   ]
  },
  {
   "cell_type": "code",
   "execution_count": 19,
   "id": "77f9a77d",
   "metadata": {},
   "outputs": [
    {
     "data": {
      "text/plain": [
       "count    150.000000\n",
       "mean       3.758667\n",
       "std        1.764420\n",
       "min        1.000000\n",
       "25%        1.600000\n",
       "50%        4.350000\n",
       "75%        5.100000\n",
       "max        6.900000\n",
       "Name: PetalLengthCm, dtype: float64"
      ]
     },
     "execution_count": 19,
     "metadata": {},
     "output_type": "execute_result"
    }
   ],
   "source": [
    "data['PetalLengthCm'].describe()"
   ]
  },
  {
   "cell_type": "markdown",
   "id": "3af6e199",
   "metadata": {},
   "source": [
    "Question 3\n"
   ]
  },
  {
   "cell_type": "code",
   "execution_count": 114,
   "id": "a7a0575c",
   "metadata": {},
   "outputs": [],
   "source": [
    "def mean_and_std(Species, column_names):\n",
    "    # Header\n",
    "    dash_count = 130\n",
    "    print(\"-\" * dash_count)\n",
    "    print(\"{:<15} | {:<26} | {:<26} | {:<26} | {:<26}\".format(\n",
    "        \"\", column_names[0], column_names[1], column_names[2], column_names[3]))\n",
    "    print(\"-\" * dash_count)\n",
    "    print(\"{:<15} | {:<13}   {:<10} | {:<13}   {:<10} | {:<13}   {:<10} | {:<13}   {:<10}\".format(\n",
    "        \"\", \"mean\", \"std\", \"mean\", \"std\", \"mean\", \"std\", \"mean\", \"std\"))\n",
    "    print(\"-\" * dash_count)\n",
    "\n",
    "    # Rows for each species\n",
    "    for df in Species:\n",
    "        species = df['Species'].iloc[0]\n",
    "        values = []\n",
    "        for col in column_names:\n",
    "            mean = round(df[col].mean(), 3)\n",
    "            std = round(df[col].std(), 3)\n",
    "            values.append((mean, std))\n",
    "        print(\"{:<15} | {:<15} {:<10} | {:<15} {:<10} | {:<15} {:<10} | {:<15} {:<10}\".format(\n",
    "            species,\n",
    "            values[0][0], values[0][1],\n",
    "            values[1][0], values[1][1],\n",
    "            values[2][0], values[2][1],\n",
    "            values[3][0], values[3][1]\n",
    "        ))"
   ]
  },
  {
   "cell_type": "code",
   "execution_count": 115,
   "id": "4be05054",
   "metadata": {},
   "outputs": [
    {
     "name": "stdout",
     "output_type": "stream",
     "text": [
      "----------------------------------------------------------------------------------------------------------------------------------\n",
      "                | PetalLengthCm              | PetalWidthCm               | SepalLengthCm              | SepalWidthCm              \n",
      "----------------------------------------------------------------------------------------------------------------------------------\n",
      "                | mean            std        | mean            std        | mean            std        | mean            std       \n",
      "----------------------------------------------------------------------------------------------------------------------------------\n",
      "Iris-setosa     | 1.464           0.174      | 0.244           0.107      | 5.006           0.352      | 3.418           0.381     \n",
      "Iris-versicolor | 4.26            0.47       | 1.326           0.198      | 5.936           0.516      | 2.77            0.314     \n",
      "Iris-virginica  | 5.552           0.552      | 2.026           0.275      | 6.588           0.636      | 2.974           0.322     \n"
     ]
    }
   ],
   "source": [
    "setosa = data.loc[data['Species'] == 'Iris-setosa']\n",
    "versicolor = data.loc[data['Species'] == 'Iris-versicolor']\n",
    "virginica = data.loc[data['Species'] == 'Iris-virginica']\n",
    "\n",
    "Species = [setosa, versicolor, virginica]\n",
    "column_names = ['PetalLengthCm', 'PetalWidthCm',\n",
    "                'SepalLengthCm', 'SepalWidthCm']\n",
    "mean_and_std(Species, column_names)"
   ]
  }
 ],
 "metadata": {
  "kernelspec": {
   "display_name": "Python 3",
   "language": "python",
   "name": "python3"
  },
  "language_info": {
   "codemirror_mode": {
    "name": "ipython",
    "version": 3
   },
   "file_extension": ".py",
   "mimetype": "text/x-python",
   "name": "python",
   "nbconvert_exporter": "python",
   "pygments_lexer": "ipython3",
   "version": "3.12.8"
  }
 },
 "nbformat": 4,
 "nbformat_minor": 5
}
